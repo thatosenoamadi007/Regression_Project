{
 "cells": [
  {
   "cell_type": "code",
   "execution_count": 63,
   "id": "42e5e3a8",
   "metadata": {},
   "outputs": [],
   "source": [
    "import pandas as pd\n",
    "import matplotlib.pyplot as plt\n",
    "from scipy import stats\n",
    "import numpy as np\n",
    "import statsmodels.api as sm"
   ]
  },
  {
   "cell_type": "code",
   "execution_count": 9,
   "id": "67f5b562",
   "metadata": {},
   "outputs": [
    {
     "data": {
      "text/plain": [
       "<bound method NDFrame.head of               Country  TotalArea   LandArea  WaterArea  \\\n",
       "0              Tuvalu       26.0       26.0        0.0   \n",
       "1    Marshall Islands      181.0      181.0    11673.0   \n",
       "2             Bahamas    13943.0    10010.0     3870.0   \n",
       "3              Gambia    11295.0    10000.0     1295.0   \n",
       "4               Nauru       21.0       21.0        0.0   \n",
       "..                ...        ...        ...        ...   \n",
       "167            Bhutan    38394.0    38394.0        0.0   \n",
       "168             India  3287263.0  2973190.0   314073.0   \n",
       "169          Pakistan   881913.0   856690.0    25223.0   \n",
       "170             Nepal   147516.0   143686.0     3830.0   \n",
       "171     United States  9833517.0  9147593.0   685924.0   \n",
       "\n",
       "                     Highest.point  Maximum.elevation  \\\n",
       "0    Unnamed location on Niulakita                5.0   \n",
       "1       Unnamed location on Likiep               10.0   \n",
       "2     Mount Alvernia on Cat Island               63.0   \n",
       "3                    Unnamed point               64.0   \n",
       "4                    Command Ridge               65.0   \n",
       "..                             ...                ...   \n",
       "167               Gangkhar Puensum             7570.0   \n",
       "168            Kangchenjunga[w][x]             8586.0   \n",
       "169                         K2[aj]             8611.0   \n",
       "170           Mount Everest[i][ag]             8848.0   \n",
       "171             Denali[av][aw][ax]             6190.5   \n",
       "\n",
       "                Lowest.point  Minimum.elevation     Pop2023  \n",
       "0        South Pacific Ocean                0.0       11396  \n",
       "1        North Pacific Ocean                0.0       41996  \n",
       "2       North Atlantic Ocean                0.0      412624  \n",
       "3       North Atlantic Ocean                0.0     2773168  \n",
       "4        South Pacific Ocean                0.0        1278  \n",
       "..                       ...                ...         ...  \n",
       "167             Drangme Chhu               97.0      787425  \n",
       "168              Kuttanad[9]               -2.0  1428627663  \n",
       "169              Arabian Sea                0.0   240485658  \n",
       "170  Mukhiyapatti Musharniya               59.0    30896590  \n",
       "171       Badwater Basin[ay]              -85.5   339996564  \n",
       "\n",
       "[172 rows x 9 columns]>"
      ]
     },
     "execution_count": 9,
     "metadata": {},
     "output_type": "execute_result"
    }
   ],
   "source": [
    "Data = pd.read_csv('DataSet.csv')\n",
    "Data.head"
   ]
  },
  {
   "cell_type": "code",
   "execution_count": 41,
   "id": "664c4c9f",
   "metadata": {},
   "outputs": [
    {
     "data": {
      "text/plain": [
       "<bound method NDFrame.head of      TotalArea  Maximum.elevation\n",
       "0         26.0                5.0\n",
       "1        181.0               10.0\n",
       "2      13943.0               63.0\n",
       "3      11295.0               64.0\n",
       "4         21.0               65.0\n",
       "..         ...                ...\n",
       "167    38394.0             7570.0\n",
       "168  3287263.0             8586.0\n",
       "169   881913.0             8611.0\n",
       "170   147516.0             8848.0\n",
       "171  9833517.0             6190.5\n",
       "\n",
       "[172 rows x 2 columns]>"
      ]
     },
     "execution_count": 41,
     "metadata": {},
     "output_type": "execute_result"
    }
   ],
   "source": [
    "single_var = Data.iloc[:, [1, 5]]\n",
    "single_var.head"
   ]
  },
  {
   "cell_type": "code",
   "execution_count": 47,
   "id": "f329fa54",
   "metadata": {},
   "outputs": [
    {
     "data": {
      "image/png": "[encoded data removed]",
      "text/plain": [
       "<Figure size 432x288 with 1 Axes>"
      ]
     },
     "metadata": {
      "needs_background": "light"
     },
     "output_type": "display_data"
    },
    {
     "data": {
      "text/plain": [
       "<bound method NDFrame.head of      TotalArea  Maximum.elevation\n",
       "0         26.0                5.0\n",
       "1        181.0               10.0\n",
       "2      13943.0               63.0\n",
       "3      11295.0               64.0\n",
       "4         21.0               65.0\n",
       "..         ...                ...\n",
       "167    38394.0             7570.0\n",
       "168  3287263.0             8586.0\n",
       "169   881913.0             8611.0\n",
       "170   147516.0             8848.0\n",
       "171  9833517.0             6190.5\n",
       "\n",
       "[172 rows x 2 columns]>"
      ]
     },
     "execution_count": 47,
     "metadata": {},
     "output_type": "execute_result"
    }
   ],
   "source": [
    "plt.scatter(Data.iloc[:, [1]],Data.iloc[:, [5]])\n",
    "\n",
    "plt.show()\n",
    "\n",
    "single_var.head"
   ]
  },
  {
   "cell_type": "code",
   "execution_count": 62,
   "id": "8a99fdf2",
   "metadata": {},
   "outputs": [
    {
     "name": "stdout",
     "output_type": "stream",
     "text": [
      "X-axis range: 1141748.0\n"
     ]
    },
    {
     "data": {
      "image/png": "[encoded data removed]",
      "text/plain": [
       "<Figure size 432x288 with 1 Axes>"
      ]
     },
     "metadata": {
      "needs_background": "light"
     },
     "output_type": "display_data"
    },
    {
     "data": {
      "text/plain": [
       "<bound method NDFrame.head of      TotalArea  Maximum.elevation\n",
       "0         26.0                5.0\n",
       "1        181.0               10.0\n",
       "2      13943.0               63.0\n",
       "3      11295.0               64.0\n",
       "4         21.0               65.0\n",
       "..         ...                ...\n",
       "164   199951.0             7439.0\n",
       "165   652867.0             7492.0\n",
       "166   143100.0             7495.0\n",
       "167    38394.0             7570.0\n",
       "169   881913.0             8611.0\n",
       "\n",
       "[150 rows x 2 columns]>"
      ]
     },
     "execution_count": 62,
     "metadata": {},
     "output_type": "execute_result"
    }
   ],
   "source": [
    "threshold=3\n",
    "z_scores = np.abs((single_var['TotalArea'] - single_var['TotalArea'].mean()) / single_var['TotalArea'].std())\n",
    "outliers = single_var[z_scores > threshold]\n",
    "single_var = single_var[z_scores <= threshold]\n",
    "plt.scatter(single_var.iloc[:,0],single_var.iloc[:,1])\n",
    "plt.xlabel('Total Area')\n",
    "plt.ylabel('Highest.point')\n",
    "x_min = single_var.iloc[:, 0].max()\n",
    "\n",
    "print('X-axis range:', x_min)\n",
    "plt.show()\n",
    "single_var.head\n"
   ]
  },
  {
   "cell_type": "code",
   "execution_count": 67,
   "id": "32a65aad",
   "metadata": {},
   "outputs": [
    {
     "name": "stdout",
     "output_type": "stream",
     "text": [
      "                            OLS Regression Results                            \n",
      "==============================================================================\n",
      "Dep. Variable:      Maximum.elevation   R-squared:                       0.237\n",
      "Model:                            OLS   Adj. R-squared:                  0.232\n",
      "Method:                 Least Squares   F-statistic:                     46.08\n",
      "Date:                Sat, 22 Apr 2023   Prob (F-statistic):           2.56e-10\n",
      "Time:                        14:35:12   Log-Likelihood:                -1317.4\n",
      "No. Observations:                 150   AIC:                             2639.\n",
      "Df Residuals:                     148   BIC:                             2645.\n",
      "Df Model:                           1                                         \n",
      "Covariance Type:            nonrobust                                         \n",
      "==============================================================================\n",
      "                 coef    std err          t      P>|t|      [0.025      0.975]\n",
      "------------------------------------------------------------------------------\n",
      "const       1718.0410    162.718     10.558      0.000    1396.491    2039.591\n",
      "TotalArea      0.0031      0.000      6.788      0.000       0.002       0.004\n",
      "==============================================================================\n",
      "Omnibus:                       25.952   Durbin-Watson:                   0.458\n",
      "Prob(Omnibus):                  0.000   Jarque-Bera (JB):               37.153\n",
      "Skew:                           0.934   Prob(JB):                     8.56e-09\n",
      "Kurtosis:                       4.566   Cond. No.                     4.40e+05\n",
      "==============================================================================\n",
      "\n",
      "Notes:\n",
      "[1] Standard Errors assume that the covariance matrix of the errors is correctly specified.\n",
      "[2] The condition number is large, 4.4e+05. This might indicate that there are\n",
      "strong multicollinearity or other numerical problems.\n"
     ]
    }
   ],
   "source": [
    "X=single_var.iloc[:,0]\n",
    "Y=single_var.iloc[:,1]\n",
    "X = sm.add_constant(X)\n",
    "model = sm.OLS(Y, X).fit()\n",
    "print(model.summary())"
   ]
  },
  {
   "cell_type": "code",
   "execution_count": 71,
   "id": "b00c6b39",
   "metadata": {},
   "outputs": [
    {
     "name": "stdout",
     "output_type": "stream",
     "text": [
      "0      1718.122870\n",
      "1      1718.610957\n",
      "2      1761.946710\n",
      "3      1753.608309\n",
      "4      1718.107126\n",
      "          ...     \n",
      "164    2347.675294\n",
      "165    3773.881949\n",
      "166    2168.654737\n",
      "167    1838.941514\n",
      "169    4495.134741\n",
      "Length: 150, dtype: float64\n"
     ]
    }
   ],
   "source": [
    "new_highest_point = model.predict(X)\n",
    "print(new_highest_point)"
   ]
  },
  {
   "cell_type": "code",
   "execution_count": 69,
   "id": "050dc829",
   "metadata": {},
   "outputs": [],
   "source": []
  },
  {
   "cell_type": "code",
   "execution_count": null,
   "id": "7aa3d0bf",
   "metadata": {},
   "outputs": [],
   "source": []
  }
 ],
 "metadata": {
  "kernelspec": {
   "display_name": "Python 3 (ipykernel)",
   "language": "python",
   "name": "python3"
  },
  "language_info": {
   "codemirror_mode": {
    "name": "ipython",
    "version": 3
   },
   "file_extension": ".py",
   "mimetype": "text/x-python",
   "name": "python",
   "nbconvert_exporter": "python",
   "pygments_lexer": "ipython3",
   "version": "3.9.12"
  }
 },
 "nbformat": 4,
 "nbformat_minor": 5
}
